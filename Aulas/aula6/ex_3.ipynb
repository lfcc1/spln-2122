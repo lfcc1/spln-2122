{
 "cells": [
  {
   "cell_type": "code",
   "execution_count": 86,
   "metadata": {},
   "outputs": [],
   "source": [
    "#from gensim import remove_stopwords, preprocess_string\n",
    "import gensim\n",
    "from gensim.models import Word2Vec\n",
    "f1 = open(\"Harry_Potter_e_A_Pedra_Filosofal.txt\",encoding=\"utf8\")\n",
    "f3 = open(\"Harry_Potter_Camara_Secreta-br.txt\",encoding=\"utf8\")\n",
    "\n",
    "\n",
    "frases = []\n",
    "for line in f1:\n",
    "    frases.append(list(gensim.utils.tokenize(line, lower=True)))\n",
    "for line in f3:\n",
    "    frases.append(list(gensim.utils.tokenize(line, lower=True)))\n",
    "#print(frases)\n"
   ]
  },
  {
   "cell_type": "code",
   "execution_count": 87,
   "metadata": {},
   "outputs": [
    {
     "name": "stdout",
     "output_type": "stream",
     "text": [
      "['Harry', 'tentou', 'argumentar', 'mas', 'suas', 'palavras', 'foram', 'abafadas', 'por', 'ela', 'Um', 'alto', 'e', 'prolongado', 'arroto', 'dado', 'pelo', 'filho', 'de', 'Dursley', 'Duda']\n"
     ]
    }
   ],
   "source": [
    "x = \"\"\"Harry tentou argumentar, mas suas palavras foram abafadas por ela Um alto e prolongado arroto\n",
    "dado pelo filho de Dursley, Duda.\"\"\"\n",
    "y =list(gensim.utils.tokenize(x))\n",
    "print(y)"
   ]
  },
  {
   "cell_type": "code",
   "execution_count": 88,
   "metadata": {},
   "outputs": [],
   "source": [
    "#model_cbow = Word2Vec(sentences=frases,sg=0, workers=5, epochs=20)\n",
    "model_cbow2 = Word2Vec(sentences=frases,sg=0, workers=5, epochs=20, vector_size=100)"
   ]
  },
  {
   "cell_type": "code",
   "execution_count": 89,
   "metadata": {},
   "outputs": [
    {
     "data": {
      "text/plain": [
       "[('quirrell', 0.6958036422729492),\n",
       " ('riddle', 0.638542652130127),\n",
       " ('elfo', 0.6309522986412048),\n",
       " ('colin', 0.6242924332618713),\n",
       " ('dumbledore', 0.6145595908164978),\n",
       " ('controlar', 0.6124434471130371),\n",
       " ('fudge', 0.6000461578369141),\n",
       " ('nick', 0.597350537776947),\n",
       " ('draco', 0.5928750038146973),\n",
       " ('malfoy', 0.592750072479248)]"
      ]
     },
     "execution_count": 89,
     "metadata": {},
     "output_type": "execute_result"
    }
   ],
   "source": [
    "model_cbow2.wv.most_similar(\"dobby\")"
   ]
  },
  {
   "cell_type": "code",
   "execution_count": 99,
   "metadata": {},
   "outputs": [
    {
     "data": {
      "text/plain": [
       "'\\nsize: (default 100) The number of dimensions of the embedding, e.g. the length of the dense vector to represent each token (word).\\nwindow: (default 5) The maximum distance between a target word and words around the target word.\\nmin_count: (default 5) The minimum count of words to consider when training the model; words with an occurrence less than this count will be ignored.\\nworkers: (default 3) The number of threads to use while training.\\nsg: (default 0 or CBOW) The training algorithm, either CBOW (0) or skip gram (1).\\n'"
      ]
     },
     "execution_count": 99,
     "metadata": {},
     "output_type": "execute_result"
    }
   ],
   "source": [
    "#model_cbow = Word2Vec(sentences=frases,sg=0, workers=5, epochs=20)\n",
    "model_cbow2 = Word2Vec(sentences=frases,sg=0, workers=5, epochs=50, vector_size=300)\n",
    "\n",
    "'''\n",
    "size: (default 100) The number of dimensions of the embedding, e.g. the length of the dense vector to represent each token (word).\n",
    "window: (default 5) The maximum distance between a target word and words around the target word.\n",
    "min_count: (default 5) The minimum count of words to consider when training the model; words with an occurrence less than this count will be ignored.\n",
    "workers: (default 3) The number of threads to use while training.\n",
    "sg: (default 0 or CBOW) The training algorithm, either CBOW (0) or skip gram (1).\n",
    "'''\n"
   ]
  },
  {
   "cell_type": "code",
   "execution_count": 53,
   "metadata": {},
   "outputs": [
    {
     "data": {
      "text/plain": [
       "[('elfo', 0.4555383026599884),\n",
       " ('nick', 0.45003795623779297),\n",
       " ('firenze', 0.44287991523742676),\n",
       " ('harry', 0.40767690539360046),\n",
       " ('hagrid', 0.38852235674858093),\n",
       " ('ernie', 0.3670322597026825),\n",
       " ('potter', 0.36117130517959595),\n",
       " ('colin', 0.3600307106971741),\n",
       " ('agouro', 0.3500714898109436),\n",
       " ('sir', 0.3459283709526062)]"
      ]
     },
     "execution_count": 53,
     "metadata": {},
     "output_type": "execute_result"
    }
   ],
   "source": [
    "model_cbow2.wv.most_similar(\"dobby\")\n"
   ]
  },
  {
   "cell_type": "code",
   "execution_count": 43,
   "metadata": {},
   "outputs": [
    {
     "data": {
      "text/plain": [
       "[('winky', 0.440595418214798),\n",
       " ('elfo', 0.42383453249931335),\n",
       " ('senhor', 0.3776160478591919),\n",
       " ('kreacher', 0.36966127157211304),\n",
       " ('monstro', 0.3592893183231354),\n",
       " ('mestre', 0.34765976667404175),\n",
       " ('ele', 0.3457641899585724),\n",
       " ('ela', 0.3044148087501526),\n",
       " ('você', 0.2988106906414032),\n",
       " ('hepzibah', 0.29612261056900024)]"
      ]
     },
     "execution_count": 43,
     "metadata": {},
     "output_type": "execute_result"
    }
   ],
   "source": [
    "model_cbow2.wv.most_similar(\"dobby\")\n"
   ]
  },
  {
   "cell_type": "code",
   "execution_count": 54,
   "metadata": {},
   "outputs": [
    {
     "data": {
      "text/plain": [
       "[('mione', 0.5104256868362427),\n",
       " ('neville', 0.48039713501930237),\n",
       " ('firenze', 0.44173815846443176),\n",
       " ('percy', 0.43050986528396606),\n",
       " ('colin', 0.4169946610927582),\n",
       " ('riddle', 0.4135687053203583),\n",
       " ('snape', 0.41151267290115356),\n",
       " ('dobby', 0.4076768457889557),\n",
       " ('wood', 0.4071877598762512),\n",
       " ('draco', 0.402914822101593)]"
      ]
     },
     "execution_count": 54,
     "metadata": {},
     "output_type": "execute_result"
    }
   ],
   "source": [
    "model_cbow2.wv.most_similar(\"harry\")"
   ]
  },
  {
   "cell_type": "code",
   "execution_count": 101,
   "metadata": {},
   "outputs": [
    {
     "name": "stdout",
     "output_type": "stream",
     "text": [
      "[('quirrell', 0.7451221942901611), ('neville', 0.7085610032081604), ('mione', 0.6668617725372314), ('draco', 0.6442367434501648), ('riddle', 0.6183964014053345), ('hagrid', 0.6013611555099487), ('lockhart', 0.5749506950378418), ('dumbledore', 0.5640583038330078), ('dobby', 0.5529532432556152), ('firenze', 0.5466482043266296)]\n"
     ]
    }
   ],
   "source": [
    "result = model_cbow2.wv.most_similar(positive=['harry', 'snape'], negative=['grifinória'])\n",
    "print(result)"
   ]
  },
  {
   "cell_type": "code",
   "execution_count": 97,
   "metadata": {},
   "outputs": [
    {
     "name": "stdout",
     "output_type": "stream",
     "text": [
      "[('sonserina', 0.5694453716278076), ('time', 0.5291758179664612), ('torre', 0.4988870620727539), ('alunos', 0.49551767110824585), ('goles', 0.4550738036632538), ('lufa', 0.4474114775657654), ('hospitalar', 0.44584015011787415), ('cozinha', 0.444074422121048), ('quadribol', 0.44205981492996216), ('escola', 0.4419179856777191)]\n"
     ]
    }
   ],
   "source": [
    "result = model_cbow2.wv.most_similar(positive=['harry', 'grifinória'], negative=['snape'])\n",
    "print(result)"
   ]
  },
  {
   "cell_type": "code",
   "execution_count": 96,
   "metadata": {},
   "outputs": [
    {
     "name": "stdout",
     "output_type": "stream",
     "text": [
      "[('sonserina', 0.8044049143791199), ('lufa', 0.6871176958084106), ('alunos', 0.6609712839126587), ('quadribol', 0.6565941572189331), ('torre', 0.6502258777618408), ('biblioteca', 0.6425350904464722), ('escola', 0.6400706171989441), ('corvinal', 0.6029542088508606), ('hospitalar', 0.6020034551620483), ('time', 0.5992687940597534)]\n"
     ]
    }
   ],
   "source": [
    "#Grifinória, Corvinal, Lufa-lufa e Sonserina\n",
    "result = model_cbow2.wv.most_similar('grifinória')\n",
    "print(result)"
   ]
  },
  {
   "cell_type": "code",
   "execution_count": 92,
   "metadata": {},
   "outputs": [
    {
     "name": "stdout",
     "output_type": "stream",
     "text": [
      "[('quirrell', 0.7140644788742065), ('neville', 0.6943925023078918), ('colin', 0.6846120357513428), ('riddle', 0.6724488735198975), ('hermione', 0.6704978346824646), ('percy', 0.6494894623756409), ('hagrid', 0.6325101852416992), ('nervoso', 0.6299585103988647), ('snape', 0.6085466742515564), ('dumbledore', 0.6073416471481323)]\n"
     ]
    }
   ],
   "source": [
    "result = model_cbow2.wv.most_similar(positive=['draco', 'mione'], negative=['sonserina'])\n",
    "print(result)"
   ]
  },
  {
   "cell_type": "code",
   "execution_count": 93,
   "metadata": {},
   "outputs": [
    {
     "name": "stdout",
     "output_type": "stream",
     "text": [
      "[('hagrid', 0.697138786315918), ('draco', 0.6203290224075317), ('lockhart', 0.6026889085769653), ('percy', 0.6008546352386475), ('colin', 0.5874431133270264), ('mione', 0.5718173980712891), ('hermione', 0.570271909236908), ('neville', 0.5549905896186829), ('professora', 0.5346895456314087), ('murta', 0.5169826149940491)]\n"
     ]
    }
   ],
   "source": [
    "result = model_cbow2.wv.most_similar(positive=['dumbledore', 'rony'], negative=['professor'])\n",
    "print(result)"
   ]
  },
  {
   "cell_type": "code",
   "execution_count": 95,
   "metadata": {},
   "outputs": [
    {
     "name": "stdout",
     "output_type": "stream",
     "text": [
      "[('hagrid', 0.697138786315918), ('draco', 0.6203290224075317), ('lockhart', 0.6026889085769653), ('percy', 0.6008546352386475), ('colin', 0.5874431133270264), ('mione', 0.5718173980712891), ('hermione', 0.570271909236908), ('neville', 0.5549905896186829), ('professora', 0.5346895456314087), ('murta', 0.5169826149940491)]\n"
     ]
    }
   ],
   "source": [
    "result = model_cbow2.wv.most_similar(positive=['dumbledore', 'rony'], negative=['professor'])  \n",
    "print(result)"
   ]
  },
  {
   "cell_type": "code",
   "execution_count": 102,
   "metadata": {},
   "outputs": [
    {
     "data": {
      "text/plain": [
       "'dobby'"
      ]
     },
     "execution_count": 102,
     "metadata": {},
     "output_type": "execute_result"
    }
   ],
   "source": [
    "model_cbow2.wv.doesnt_match([\"harry\",\"hermione\",\"dobby\"])"
   ]
  },
  {
   "cell_type": "code",
   "execution_count": 103,
   "metadata": {},
   "outputs": [
    {
     "data": {
      "text/plain": [
       "'carro'"
      ]
     },
     "execution_count": 103,
     "metadata": {},
     "output_type": "execute_result"
    }
   ],
   "source": [
    "model_cbow2.wv.doesnt_match([\"magia\",\"carro\",\"hogwarts\"])"
   ]
  }
 ],
 "metadata": {
  "interpreter": {
   "hash": "2232cce0feda495dbaab39ecfda12b4e9c75df0181da683c6fd0c1aaa6fdea1a"
  },
  "kernelspec": {
   "display_name": "Python 3.9.6 64-bit",
   "language": "python",
   "name": "python3"
  },
  "language_info": {
   "codemirror_mode": {
    "name": "ipython",
    "version": 3
   },
   "file_extension": ".py",
   "mimetype": "text/x-python",
   "name": "python",
   "nbconvert_exporter": "python",
   "pygments_lexer": "ipython3",
   "version": "3.9.6"
  },
  "orig_nbformat": 4
 },
 "nbformat": 4,
 "nbformat_minor": 2
}
